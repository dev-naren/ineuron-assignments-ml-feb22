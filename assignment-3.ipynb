{
 "cells": [
  {
   "cell_type": "code",
   "execution_count": 3,
   "metadata": {},
   "outputs": [
    {
     "name": "stdout",
     "output_type": "stream",
     "text": [
      "Divide by zero exception\n",
      "operation complete\n"
     ]
    }
   ],
   "source": [
    "def divideTwo(a,b):\n",
    "    try:\n",
    "        print(a/b)\n",
    "    except:\n",
    "        print(\"Divide by zero exception\")\n",
    "    else: print(\"No exception\")\n",
    "    finally: print(\"operation complete\")\n",
    "        \n",
    "divideTwo(5,0)"
   ]
  },
  {
   "cell_type": "code",
   "execution_count": 7,
   "metadata": {},
   "outputs": [
    {
     "name": "stdout",
     "output_type": "stream",
     "text": [
      "Americans  play Baseball\n",
      "Americans  play Cricket\n",
      "Americans  watch Baseball\n",
      "Americans  watch Cricket\n",
      "Indians play Baseball\n",
      "Indians play Cricket\n",
      "Indians watch Baseball\n",
      "Indians watch Cricket\n"
     ]
    }
   ],
   "source": [
    "subjects=[\"Americans \",\"Indians\"]\n",
    "verbs=[\"play\",\"watch\"]\n",
    "objects=[\"Baseball\",\"Cricket\"]\n",
    "\n",
    "for i in subjects:\n",
    "    for j in verbs:       \n",
    "        for z in objects:\n",
    "            print(i +\" \"+j +\" \"+z)\n",
    "            \n"
   ]
  },
  {
   "cell_type": "code",
   "execution_count": 29,
   "metadata": {},
   "outputs": [
    {
     "data": {
      "text/plain": [
       "matrix([[  1,   1,   1,   1],\n",
       "        [  1,   2,   4,   8],\n",
       "        [  1,   3,   9,  27],\n",
       "        [  1,   4,  16,  64],\n",
       "        [  1,   5,  25, 125]])"
      ]
     },
     "execution_count": 29,
     "metadata": {},
     "output_type": "execute_result"
    }
   ],
   "source": [
    "import numpy as np\n",
    "\n",
    "def vanderMonde2 (arr,n,order):\n",
    "     return np.vander(arr,n, increasing=order)\n",
    "    \n",
    "def vanderMonde(arr,n,order):\n",
    "    final_out = []\n",
    "    col_range = range(0,n)\n",
    "        \n",
    "    for i in arr:\n",
    "        row = []\n",
    "        for j in col_range:\n",
    "            row.append(i**j)\n",
    "        if order == False:\n",
    "            row = row[::-1]\n",
    "        final_out.append(row)\n",
    "    return np.matrix(final_out)\n",
    "        \n",
    "vanderMonde([1,2,3,4,5],4,True)\n",
    "\n",
    "        "
   ]
  },
  {
   "cell_type": "code",
   "execution_count": 28,
   "metadata": {},
   "outputs": [
    {
     "data": {
      "text/plain": [
       "matrix([[  1,   1,   1,   1],\n",
       "        [  8,   4,   2,   1],\n",
       "        [ 27,   9,   3,   1],\n",
       "        [ 64,  16,   4,   1],\n",
       "        [125,  25,   5,   1]])"
      ]
     },
     "execution_count": 28,
     "metadata": {},
     "output_type": "execute_result"
    }
   ],
   "source": [
    "vanderMonde([1,2,3,4,5],4,False)"
   ]
  },
  {
   "cell_type": "code",
   "execution_count": null,
   "metadata": {},
   "outputs": [],
   "source": []
  }
 ],
 "metadata": {
  "kernelspec": {
   "display_name": "Python 3",
   "language": "python",
   "name": "python3"
  },
  "language_info": {
   "codemirror_mode": {
    "name": "ipython",
    "version": 3
   },
   "file_extension": ".py",
   "mimetype": "text/x-python",
   "name": "python",
   "nbconvert_exporter": "python",
   "pygments_lexer": "ipython3",
   "version": "3.7.4"
  }
 },
 "nbformat": 4,
 "nbformat_minor": 2
}
