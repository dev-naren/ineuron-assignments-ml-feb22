{
 "cells": [
  {
   "cell_type": "code",
   "execution_count": 31,
   "metadata": {},
   "outputs": [
    {
     "name": "stdout",
     "output_type": "stream",
     "text": [
      "5\n"
     ]
    }
   ],
   "source": [
    "#1.1 Own built in reduce function\n",
    "def own_reduce(func,arr):\n",
    "    if(type(arr)== list and len(arr)> 0 and  hasattr(func, '__call__')):\n",
    "        if len(arr) >1:\n",
    "            agg = 0\n",
    "            num = len(arr)-1\n",
    "            for i in range(0,num):\n",
    "                agg= func(arr[i],arr[i+1])\n",
    "            return agg\n",
    "        elif len(arr)==1:\n",
    "            return arr[0]        \n",
    "    else:\n",
    "\n",
    "        raise Exception(\"invalid input\")\n",
    "  \n",
    "               \n",
    "def addfun(a,b):\n",
    "    return a+b\n",
    "\n",
    "print(own_reduce(addfun,[1,2,3]))\n",
    "    "
   ]
  },
  {
   "cell_type": "code",
   "execution_count": 3,
   "metadata": {},
   "outputs": [
    {
     "data": {
      "text/plain": [
       "[2, 3, 5, 7]"
      ]
     },
     "execution_count": 3,
     "metadata": {},
     "output_type": "execute_result"
    }
   ],
   "source": [
    "#1.2 Write a Python program to implement your own myfilter()\n",
    "def is_prime(num):\n",
    "    if num % 2 == 0 and num > 2: \n",
    "        return False\n",
    "    for i in range(3, int(math.sqrt(num)) + 1, 2):\n",
    "        if num % i == 0:\n",
    "            return False\n",
    "    return True\n",
    "\n",
    "def own_filter(func,arr):\n",
    "     if type(arr)== list and  hasattr(func, '__call__'):\n",
    "            out_arr = []\n",
    "            for i in arr:\n",
    "                if func(i):\n",
    "                    out_arr.append(i)\n",
    "            return out_arr\n",
    "     else:\n",
    "        raise Exception(\"invalid input\") \n",
    "   \n",
    "own_filter(is_prime,[2,3,4,5,6,7,8,9])"
   ]
  },
  {
   "cell_type": "code",
   "execution_count": 33,
   "metadata": {
    "scrolled": true
   },
   "outputs": [
    {
     "name": "stdout",
     "output_type": "stream",
     "text": [
      "['A', 'C', 'A', 'D', 'G', 'I', 'L', 'D']\n",
      "['x', 'y', 'z', 'xx', 'yy', 'zz', 'xxx', 'yyy', 'zzz', 'xxxx', 'yyyy', 'zzzz']\n",
      "['x', 'xx', 'xxx', 'xxxx', 'y', 'yy', 'yyy', 'yyyy', 'z', 'zz', 'zzz', 'zzzz']\n",
      "[[2], [3], [4], [3], [4], [5], [4], [5], [6]]\n",
      "[[2, 3, 4, 5], [3, 4, 5, 6], [4, 5, 6, 7], [5, 6, 7, 8]]\n",
      "[(1, 1), (2, 1), (3, 1), (1, 2), (2, 2), (3, 2), (1, 3), (2, 3), (3, 3)]\n"
     ]
    }
   ],
   "source": [
    "# 2 List comprehensions\n",
    "word= \"ACADGILD\"\n",
    "wordlist = [ a for a in word ]\n",
    "l = [i*j for i in range(1,5) for j in ['x','y','z']]\n",
    "l2 = [i * j for j in ['x', 'y', 'z'] for i in range(1, 5)]\n",
    "l3 = [ [item+num] for item in [2,3,4] for num in range(0,3)]\n",
    "l4 = [[item+num for item in [2,3,4,5]] for num in range(0,4)]\n",
    "l5 = [ (b,a) for a in [1,2,3] for b in [1,2,3]]\n",
    "print(wordlist)\n",
    "print(l)\n",
    "print(l2)\n",
    "print(l3)\n",
    "print(l4)\n",
    "print(l5)"
   ]
  },
  {
   "cell_type": "code",
   "execution_count": 34,
   "metadata": {},
   "outputs": [
    {
     "data": {
      "text/plain": [
       "'aaaaaaaaaaa'"
      ]
     },
     "execution_count": 34,
     "metadata": {},
     "output_type": "execute_result"
    }
   ],
   "source": [
    "#3 return the longest word\n",
    "\n",
    "def long_word(arr):\n",
    "    max_length = 0\n",
    "    max_word =0\n",
    "    for i in range(0,len(arr)):\n",
    "        word_length = len(arr[i])\n",
    "        if word_length > max_length:\n",
    "            max_length = word_length\n",
    "            max_word =  arr[i]\n",
    "    return max_word\n",
    "\n",
    "long_word([\"ab\",\"abc\",\"aaaaaaaaaaa\",\"a\",\"abbb\"])\n",
    "    "
   ]
  },
  {
   "cell_type": "code",
   "execution_count": 47,
   "metadata": {},
   "outputs": [
    {
     "data": {
      "text/plain": [
       "6.0"
      ]
     },
     "execution_count": 47,
     "metadata": {},
     "output_type": "execute_result"
    }
   ],
   "source": [
    "#task 2\n",
    "# 1.1 Write a Python Program(with class concepts) to find the area of the triangle\n",
    "class Triangle:\n",
    "    def __init__(self, a,b,c):\n",
    "        self.a= a\n",
    "        self.b= b\n",
    "        self.c =c\n",
    "class TriangleChild(Triangle):\n",
    "    def area(self):\n",
    "        s = (self.a + self.b + self.c) / 2\n",
    "        return (s*(s-self.a)*(s-self.b)*(s-self.c)) ** 0.5\n",
    "    \n",
    "triangle1 = TriangleChild(3,4,5)\n",
    "triangle1.area()"
   ]
  },
  {
   "cell_type": "code",
   "execution_count": 7,
   "metadata": {},
   "outputs": [
    {
     "data": {
      "text/plain": [
       "['aaaaaaaaaaa']"
      ]
     },
     "execution_count": 7,
     "metadata": {},
     "output_type": "execute_result"
    }
   ],
   "source": [
    "#task 1.2 return the words longer than integer n\n",
    "\n",
    "def filter_long_words(arr,n):\n",
    "    out = []\n",
    "    for i in arr:\n",
    "        word_length = len(i)\n",
    "        if word_length > n:\n",
    "            out.append(i) \n",
    "    return out\n",
    "\n",
    "filter_long_words([\"ab\",\"abc\",\"aaaaaaaaaaa\",\"a\",\"abbb\"],4)\n"
   ]
  },
  {
   "cell_type": "code",
   "execution_count": 9,
   "metadata": {},
   "outputs": [
    {
     "data": {
      "text/plain": [
       "[2, 3, 4]"
      ]
     },
     "execution_count": 9,
     "metadata": {},
     "output_type": "execute_result"
    }
   ],
   "source": [
    "# 2.1 Write a Python program using function concept that maps list of words into a list of integers\n",
    "#representing the lengths of the corresponding words\n",
    "\n",
    "def word_length_arr(arr):\n",
    "    return list(map(lambda a: len(a),arr))\n",
    "\n",
    "word_length_arr([ 'ab','cde','erty'])"
   ]
  },
  {
   "cell_type": "code",
   "execution_count": 16,
   "metadata": {},
   "outputs": [
    {
     "data": {
      "text/plain": [
       "True"
      ]
     },
     "execution_count": 16,
     "metadata": {},
     "output_type": "execute_result"
    }
   ],
   "source": [
    "#2.2 Write a Python function which takes a character (i.e. a string of length 1) and returns True if it is\n",
    "#a vowel, False otherwise\n",
    "\n",
    "vowels = ('a','e','i','o','u')\n",
    "\n",
    "def check_if_vowel(word):\n",
    "    if word in vowels:\n",
    "        return True\n",
    "    else:\n",
    "        return False\n",
    "    \n",
    "check_if_vowel('a')"
   ]
  },
  {
   "cell_type": "code",
   "execution_count": null,
   "metadata": {},
   "outputs": [],
   "source": []
  }
 ],
 "metadata": {
  "kernelspec": {
   "display_name": "Python 3",
   "language": "python",
   "name": "python3"
  },
  "language_info": {
   "codemirror_mode": {
    "name": "ipython",
    "version": 3
   },
   "file_extension": ".py",
   "mimetype": "text/x-python",
   "name": "python",
   "nbconvert_exporter": "python",
   "pygments_lexer": "ipython3",
   "version": "3.7.4"
  }
 },
 "nbformat": 4,
 "nbformat_minor": 2
}
